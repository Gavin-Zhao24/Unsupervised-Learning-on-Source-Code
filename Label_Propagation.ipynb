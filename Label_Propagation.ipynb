{
  "nbformat": 4,
  "nbformat_minor": 0,
  "metadata": {
    "colab": {
      "provenance": [],
      "collapsed_sections": [],
      "toc_visible": true
    },
    "kernelspec": {
      "name": "python3",
      "display_name": "Python 3"
    },
    "language_info": {
      "name": "python"
    }
  },
  "cells": [
    {
      "cell_type": "code",
      "execution_count": 1,
      "metadata": {
        "id": "wFmh39bvwSKr"
      },
      "outputs": [],
      "source": [
        "import numpy as np\n",
        "import pandas as pd\n",
        "import torch\n",
        "import random\n",
        "from collections import Counter\n",
        "\n",
        "import seaborn as sns \n",
        "from sklearn.semi_supervised import LabelPropagation\n",
        "from sklearn.semi_supervised import LabelSpreading\n",
        "from sklearn.cluster import KMeans\n",
        "from sklearn.metrics.cluster import adjusted_mutual_info_score\n",
        "from sklearn.metrics.cluster import adjusted_rand_score"
      ]
    },
    {
      "cell_type": "markdown",
      "source": [
        "## Load SmartContract dataset"
      ],
      "metadata": {
        "id": "PIBzF_FUw14m"
      }
    },
    {
      "cell_type": "code",
      "source": [
        "cd /content/drive/MyDrive/MIE8888/Smart Contract/"
      ],
      "metadata": {
        "colab": {
          "base_uri": "https://localhost:8080/"
        },
        "id": "9kvJn_Q4wvJj",
        "outputId": "11ffd091-c46f-460d-d8df-9b4239cb5f37"
      },
      "execution_count": 2,
      "outputs": [
        {
          "output_type": "stream",
          "name": "stdout",
          "text": [
            "/content/drive/MyDrive/MIE8888/Smart Contract\n"
          ]
        }
      ]
    },
    {
      "cell_type": "code",
      "source": [
        "vectors = torch.load(\"vectors.pt\", map_location=torch.device('cpu')).detach().cpu().numpy()\n",
        "targets = torch.load(\"labels.pt\", map_location=torch.device('cpu')).detach().cpu().numpy().reshape(-1,)\n",
        "print(vectors.shape)\n",
        "print(targets.shape)"
      ],
      "metadata": {
        "colab": {
          "base_uri": "https://localhost:8080/"
        },
        "id": "cHemXZvUwyEG",
        "outputId": "77d21fa5-3b3b-4cc3-b1ca-e921448cd899"
      },
      "execution_count": 3,
      "outputs": [
        {
          "output_type": "stream",
          "name": "stdout",
          "text": [
            "(22443, 256)\n",
            "(22443,)\n"
          ]
        }
      ]
    },
    {
      "cell_type": "code",
      "source": [
        "len(Counter(targets))"
      ],
      "metadata": {
        "colab": {
          "base_uri": "https://localhost:8080/"
        },
        "id": "BqITYZLqsxNe",
        "outputId": "b33025ee-80ba-4f63-b176-baa5cb0ff859"
      },
      "execution_count": 4,
      "outputs": [
        {
          "output_type": "execute_result",
          "data": {
            "text/plain": [
              "90"
            ]
          },
          "metadata": {},
          "execution_count": 4
        }
      ]
    },
    {
      "cell_type": "code",
      "source": [
        "df = pd.DataFrame(vectors)\n",
        "df['class'] = targets"
      ],
      "metadata": {
        "id": "sMocSLYEotZO"
      },
      "execution_count": 5,
      "outputs": []
    },
    {
      "cell_type": "code",
      "source": [
        "df"
      ],
      "metadata": {
        "colab": {
          "base_uri": "https://localhost:8080/",
          "height": 424
        },
        "id": "yn83Le_0oz7w",
        "outputId": "83f6f0f0-c725-4bcd-e44e-cc781c8b8aa7"
      },
      "execution_count": 14,
      "outputs": [
        {
          "output_type": "execute_result",
          "data": {
            "text/plain": [
              "              0         1         2         3    4    5         6         7  \\\n",
              "0      0.111661  0.034962  0.025885  0.000000  0.0  0.0  0.079101  0.000000   \n",
              "1      0.111661  0.034962  0.025885  0.000000  0.0  0.0  0.079101  0.000000   \n",
              "2      0.111661  0.034962  0.025885  0.000000  0.0  0.0  0.079101  0.000000   \n",
              "3      0.111661  0.034962  0.025885  0.000000  0.0  0.0  0.079101  0.000000   \n",
              "4      0.111661  0.034962  0.025885  0.000000  0.0  0.0  0.079101  0.000000   \n",
              "...         ...       ...       ...       ...  ...  ...       ...       ...   \n",
              "22438  0.288664  0.105290  0.038769  0.010645  0.0  0.0  0.095868  0.018392   \n",
              "22439  0.266739  0.058343  0.026502  0.000000  0.0  0.0  0.067846  0.000000   \n",
              "22440  0.266739  0.058343  0.026502  0.000000  0.0  0.0  0.046085  0.000000   \n",
              "22441  0.266739  0.058343  0.026502  0.000000  0.0  0.0  0.067846  0.000000   \n",
              "22442  0.266739  0.058343  0.026502  0.000000  0.0  0.0  0.067846  0.000000   \n",
              "\n",
              "              8         9  ...       247       248       249       250  \\\n",
              "0      0.048922  0.086890  ...  0.694713  0.589244  0.415348  0.021515   \n",
              "1      0.048922  0.086890  ...  0.694713  0.589244  0.415348  0.021515   \n",
              "2      0.048922  0.077186  ...  0.694713  0.589244  0.415348  0.024312   \n",
              "3      0.048922  0.086890  ...  0.694713  0.589244  0.415348  0.021515   \n",
              "4      0.048922  0.086890  ...  0.694713  0.589244  0.415348  0.021515   \n",
              "...         ...       ...  ...       ...       ...       ...       ...   \n",
              "22438  0.054183  0.293962  ...  0.902067  0.498535  0.034602  0.020090   \n",
              "22439  0.025188  0.317354  ...  0.609337  0.295497  0.021530  0.010989   \n",
              "22440  0.025188  0.317354  ...  0.715197  0.341643  0.018123  0.009803   \n",
              "22441  0.025188  0.317354  ...  0.609337  0.295497  0.021530  0.010989   \n",
              "22442  0.025188  0.317354  ...  0.715197  0.341643  0.021530  0.009803   \n",
              "\n",
              "            251       252       253  254       255  class  \n",
              "0      0.247651  0.131002  0.075833  0.0  0.108983    1.0  \n",
              "1      0.247651  0.131002  0.075833  0.0  0.108983    1.0  \n",
              "2      0.247651  0.124732  0.075833  0.0  0.108983    1.0  \n",
              "3      0.247651  0.131002  0.075833  0.0  0.108983    1.0  \n",
              "4      0.247651  0.131002  0.075833  0.0  0.108983    1.0  \n",
              "...         ...       ...       ...  ...       ...    ...  \n",
              "22438  0.492734  0.338706  0.408384  0.0  0.273504  118.0  \n",
              "22439  0.102226  0.160206  0.187483  0.0  0.273742  118.0  \n",
              "22440  0.119310  0.160206  0.187483  0.0  0.273742  118.0  \n",
              "22441  0.102226  0.160206  0.187483  0.0  0.273742  118.0  \n",
              "22442  0.119310  0.160206  0.187483  0.0  0.273742  118.0  \n",
              "\n",
              "[22443 rows x 257 columns]"
            ],
            "text/html": [
              "\n",
              "  <div id=\"df-c7b79be5-ff8d-4f1d-a833-76da47a0518c\">\n",
              "    <div class=\"colab-df-container\">\n",
              "      <div>\n",
              "<style scoped>\n",
              "    .dataframe tbody tr th:only-of-type {\n",
              "        vertical-align: middle;\n",
              "    }\n",
              "\n",
              "    .dataframe tbody tr th {\n",
              "        vertical-align: top;\n",
              "    }\n",
              "\n",
              "    .dataframe thead th {\n",
              "        text-align: right;\n",
              "    }\n",
              "</style>\n",
              "<table border=\"1\" class=\"dataframe\">\n",
              "  <thead>\n",
              "    <tr style=\"text-align: right;\">\n",
              "      <th></th>\n",
              "      <th>0</th>\n",
              "      <th>1</th>\n",
              "      <th>2</th>\n",
              "      <th>3</th>\n",
              "      <th>4</th>\n",
              "      <th>5</th>\n",
              "      <th>6</th>\n",
              "      <th>7</th>\n",
              "      <th>8</th>\n",
              "      <th>9</th>\n",
              "      <th>...</th>\n",
              "      <th>247</th>\n",
              "      <th>248</th>\n",
              "      <th>249</th>\n",
              "      <th>250</th>\n",
              "      <th>251</th>\n",
              "      <th>252</th>\n",
              "      <th>253</th>\n",
              "      <th>254</th>\n",
              "      <th>255</th>\n",
              "      <th>class</th>\n",
              "    </tr>\n",
              "  </thead>\n",
              "  <tbody>\n",
              "    <tr>\n",
              "      <th>0</th>\n",
              "      <td>0.111661</td>\n",
              "      <td>0.034962</td>\n",
              "      <td>0.025885</td>\n",
              "      <td>0.000000</td>\n",
              "      <td>0.0</td>\n",
              "      <td>0.0</td>\n",
              "      <td>0.079101</td>\n",
              "      <td>0.000000</td>\n",
              "      <td>0.048922</td>\n",
              "      <td>0.086890</td>\n",
              "      <td>...</td>\n",
              "      <td>0.694713</td>\n",
              "      <td>0.589244</td>\n",
              "      <td>0.415348</td>\n",
              "      <td>0.021515</td>\n",
              "      <td>0.247651</td>\n",
              "      <td>0.131002</td>\n",
              "      <td>0.075833</td>\n",
              "      <td>0.0</td>\n",
              "      <td>0.108983</td>\n",
              "      <td>1.0</td>\n",
              "    </tr>\n",
              "    <tr>\n",
              "      <th>1</th>\n",
              "      <td>0.111661</td>\n",
              "      <td>0.034962</td>\n",
              "      <td>0.025885</td>\n",
              "      <td>0.000000</td>\n",
              "      <td>0.0</td>\n",
              "      <td>0.0</td>\n",
              "      <td>0.079101</td>\n",
              "      <td>0.000000</td>\n",
              "      <td>0.048922</td>\n",
              "      <td>0.086890</td>\n",
              "      <td>...</td>\n",
              "      <td>0.694713</td>\n",
              "      <td>0.589244</td>\n",
              "      <td>0.415348</td>\n",
              "      <td>0.021515</td>\n",
              "      <td>0.247651</td>\n",
              "      <td>0.131002</td>\n",
              "      <td>0.075833</td>\n",
              "      <td>0.0</td>\n",
              "      <td>0.108983</td>\n",
              "      <td>1.0</td>\n",
              "    </tr>\n",
              "    <tr>\n",
              "      <th>2</th>\n",
              "      <td>0.111661</td>\n",
              "      <td>0.034962</td>\n",
              "      <td>0.025885</td>\n",
              "      <td>0.000000</td>\n",
              "      <td>0.0</td>\n",
              "      <td>0.0</td>\n",
              "      <td>0.079101</td>\n",
              "      <td>0.000000</td>\n",
              "      <td>0.048922</td>\n",
              "      <td>0.077186</td>\n",
              "      <td>...</td>\n",
              "      <td>0.694713</td>\n",
              "      <td>0.589244</td>\n",
              "      <td>0.415348</td>\n",
              "      <td>0.024312</td>\n",
              "      <td>0.247651</td>\n",
              "      <td>0.124732</td>\n",
              "      <td>0.075833</td>\n",
              "      <td>0.0</td>\n",
              "      <td>0.108983</td>\n",
              "      <td>1.0</td>\n",
              "    </tr>\n",
              "    <tr>\n",
              "      <th>3</th>\n",
              "      <td>0.111661</td>\n",
              "      <td>0.034962</td>\n",
              "      <td>0.025885</td>\n",
              "      <td>0.000000</td>\n",
              "      <td>0.0</td>\n",
              "      <td>0.0</td>\n",
              "      <td>0.079101</td>\n",
              "      <td>0.000000</td>\n",
              "      <td>0.048922</td>\n",
              "      <td>0.086890</td>\n",
              "      <td>...</td>\n",
              "      <td>0.694713</td>\n",
              "      <td>0.589244</td>\n",
              "      <td>0.415348</td>\n",
              "      <td>0.021515</td>\n",
              "      <td>0.247651</td>\n",
              "      <td>0.131002</td>\n",
              "      <td>0.075833</td>\n",
              "      <td>0.0</td>\n",
              "      <td>0.108983</td>\n",
              "      <td>1.0</td>\n",
              "    </tr>\n",
              "    <tr>\n",
              "      <th>4</th>\n",
              "      <td>0.111661</td>\n",
              "      <td>0.034962</td>\n",
              "      <td>0.025885</td>\n",
              "      <td>0.000000</td>\n",
              "      <td>0.0</td>\n",
              "      <td>0.0</td>\n",
              "      <td>0.079101</td>\n",
              "      <td>0.000000</td>\n",
              "      <td>0.048922</td>\n",
              "      <td>0.086890</td>\n",
              "      <td>...</td>\n",
              "      <td>0.694713</td>\n",
              "      <td>0.589244</td>\n",
              "      <td>0.415348</td>\n",
              "      <td>0.021515</td>\n",
              "      <td>0.247651</td>\n",
              "      <td>0.131002</td>\n",
              "      <td>0.075833</td>\n",
              "      <td>0.0</td>\n",
              "      <td>0.108983</td>\n",
              "      <td>1.0</td>\n",
              "    </tr>\n",
              "    <tr>\n",
              "      <th>...</th>\n",
              "      <td>...</td>\n",
              "      <td>...</td>\n",
              "      <td>...</td>\n",
              "      <td>...</td>\n",
              "      <td>...</td>\n",
              "      <td>...</td>\n",
              "      <td>...</td>\n",
              "      <td>...</td>\n",
              "      <td>...</td>\n",
              "      <td>...</td>\n",
              "      <td>...</td>\n",
              "      <td>...</td>\n",
              "      <td>...</td>\n",
              "      <td>...</td>\n",
              "      <td>...</td>\n",
              "      <td>...</td>\n",
              "      <td>...</td>\n",
              "      <td>...</td>\n",
              "      <td>...</td>\n",
              "      <td>...</td>\n",
              "      <td>...</td>\n",
              "    </tr>\n",
              "    <tr>\n",
              "      <th>22438</th>\n",
              "      <td>0.288664</td>\n",
              "      <td>0.105290</td>\n",
              "      <td>0.038769</td>\n",
              "      <td>0.010645</td>\n",
              "      <td>0.0</td>\n",
              "      <td>0.0</td>\n",
              "      <td>0.095868</td>\n",
              "      <td>0.018392</td>\n",
              "      <td>0.054183</td>\n",
              "      <td>0.293962</td>\n",
              "      <td>...</td>\n",
              "      <td>0.902067</td>\n",
              "      <td>0.498535</td>\n",
              "      <td>0.034602</td>\n",
              "      <td>0.020090</td>\n",
              "      <td>0.492734</td>\n",
              "      <td>0.338706</td>\n",
              "      <td>0.408384</td>\n",
              "      <td>0.0</td>\n",
              "      <td>0.273504</td>\n",
              "      <td>118.0</td>\n",
              "    </tr>\n",
              "    <tr>\n",
              "      <th>22439</th>\n",
              "      <td>0.266739</td>\n",
              "      <td>0.058343</td>\n",
              "      <td>0.026502</td>\n",
              "      <td>0.000000</td>\n",
              "      <td>0.0</td>\n",
              "      <td>0.0</td>\n",
              "      <td>0.067846</td>\n",
              "      <td>0.000000</td>\n",
              "      <td>0.025188</td>\n",
              "      <td>0.317354</td>\n",
              "      <td>...</td>\n",
              "      <td>0.609337</td>\n",
              "      <td>0.295497</td>\n",
              "      <td>0.021530</td>\n",
              "      <td>0.010989</td>\n",
              "      <td>0.102226</td>\n",
              "      <td>0.160206</td>\n",
              "      <td>0.187483</td>\n",
              "      <td>0.0</td>\n",
              "      <td>0.273742</td>\n",
              "      <td>118.0</td>\n",
              "    </tr>\n",
              "    <tr>\n",
              "      <th>22440</th>\n",
              "      <td>0.266739</td>\n",
              "      <td>0.058343</td>\n",
              "      <td>0.026502</td>\n",
              "      <td>0.000000</td>\n",
              "      <td>0.0</td>\n",
              "      <td>0.0</td>\n",
              "      <td>0.046085</td>\n",
              "      <td>0.000000</td>\n",
              "      <td>0.025188</td>\n",
              "      <td>0.317354</td>\n",
              "      <td>...</td>\n",
              "      <td>0.715197</td>\n",
              "      <td>0.341643</td>\n",
              "      <td>0.018123</td>\n",
              "      <td>0.009803</td>\n",
              "      <td>0.119310</td>\n",
              "      <td>0.160206</td>\n",
              "      <td>0.187483</td>\n",
              "      <td>0.0</td>\n",
              "      <td>0.273742</td>\n",
              "      <td>118.0</td>\n",
              "    </tr>\n",
              "    <tr>\n",
              "      <th>22441</th>\n",
              "      <td>0.266739</td>\n",
              "      <td>0.058343</td>\n",
              "      <td>0.026502</td>\n",
              "      <td>0.000000</td>\n",
              "      <td>0.0</td>\n",
              "      <td>0.0</td>\n",
              "      <td>0.067846</td>\n",
              "      <td>0.000000</td>\n",
              "      <td>0.025188</td>\n",
              "      <td>0.317354</td>\n",
              "      <td>...</td>\n",
              "      <td>0.609337</td>\n",
              "      <td>0.295497</td>\n",
              "      <td>0.021530</td>\n",
              "      <td>0.010989</td>\n",
              "      <td>0.102226</td>\n",
              "      <td>0.160206</td>\n",
              "      <td>0.187483</td>\n",
              "      <td>0.0</td>\n",
              "      <td>0.273742</td>\n",
              "      <td>118.0</td>\n",
              "    </tr>\n",
              "    <tr>\n",
              "      <th>22442</th>\n",
              "      <td>0.266739</td>\n",
              "      <td>0.058343</td>\n",
              "      <td>0.026502</td>\n",
              "      <td>0.000000</td>\n",
              "      <td>0.0</td>\n",
              "      <td>0.0</td>\n",
              "      <td>0.067846</td>\n",
              "      <td>0.000000</td>\n",
              "      <td>0.025188</td>\n",
              "      <td>0.317354</td>\n",
              "      <td>...</td>\n",
              "      <td>0.715197</td>\n",
              "      <td>0.341643</td>\n",
              "      <td>0.021530</td>\n",
              "      <td>0.009803</td>\n",
              "      <td>0.119310</td>\n",
              "      <td>0.160206</td>\n",
              "      <td>0.187483</td>\n",
              "      <td>0.0</td>\n",
              "      <td>0.273742</td>\n",
              "      <td>118.0</td>\n",
              "    </tr>\n",
              "  </tbody>\n",
              "</table>\n",
              "<p>22443 rows × 257 columns</p>\n",
              "</div>\n",
              "      <button class=\"colab-df-convert\" onclick=\"convertToInteractive('df-c7b79be5-ff8d-4f1d-a833-76da47a0518c')\"\n",
              "              title=\"Convert this dataframe to an interactive table.\"\n",
              "              style=\"display:none;\">\n",
              "        \n",
              "  <svg xmlns=\"http://www.w3.org/2000/svg\" height=\"24px\"viewBox=\"0 0 24 24\"\n",
              "       width=\"24px\">\n",
              "    <path d=\"M0 0h24v24H0V0z\" fill=\"none\"/>\n",
              "    <path d=\"M18.56 5.44l.94 2.06.94-2.06 2.06-.94-2.06-.94-.94-2.06-.94 2.06-2.06.94zm-11 1L8.5 8.5l.94-2.06 2.06-.94-2.06-.94L8.5 2.5l-.94 2.06-2.06.94zm10 10l.94 2.06.94-2.06 2.06-.94-2.06-.94-.94-2.06-.94 2.06-2.06.94z\"/><path d=\"M17.41 7.96l-1.37-1.37c-.4-.4-.92-.59-1.43-.59-.52 0-1.04.2-1.43.59L10.3 9.45l-7.72 7.72c-.78.78-.78 2.05 0 2.83L4 21.41c.39.39.9.59 1.41.59.51 0 1.02-.2 1.41-.59l7.78-7.78 2.81-2.81c.8-.78.8-2.07 0-2.86zM5.41 20L4 18.59l7.72-7.72 1.47 1.35L5.41 20z\"/>\n",
              "  </svg>\n",
              "      </button>\n",
              "      \n",
              "  <style>\n",
              "    .colab-df-container {\n",
              "      display:flex;\n",
              "      flex-wrap:wrap;\n",
              "      gap: 12px;\n",
              "    }\n",
              "\n",
              "    .colab-df-convert {\n",
              "      background-color: #E8F0FE;\n",
              "      border: none;\n",
              "      border-radius: 50%;\n",
              "      cursor: pointer;\n",
              "      display: none;\n",
              "      fill: #1967D2;\n",
              "      height: 32px;\n",
              "      padding: 0 0 0 0;\n",
              "      width: 32px;\n",
              "    }\n",
              "\n",
              "    .colab-df-convert:hover {\n",
              "      background-color: #E2EBFA;\n",
              "      box-shadow: 0px 1px 2px rgba(60, 64, 67, 0.3), 0px 1px 3px 1px rgba(60, 64, 67, 0.15);\n",
              "      fill: #174EA6;\n",
              "    }\n",
              "\n",
              "    [theme=dark] .colab-df-convert {\n",
              "      background-color: #3B4455;\n",
              "      fill: #D2E3FC;\n",
              "    }\n",
              "\n",
              "    [theme=dark] .colab-df-convert:hover {\n",
              "      background-color: #434B5C;\n",
              "      box-shadow: 0px 1px 3px 1px rgba(0, 0, 0, 0.15);\n",
              "      filter: drop-shadow(0px 1px 2px rgba(0, 0, 0, 0.3));\n",
              "      fill: #FFFFFF;\n",
              "    }\n",
              "  </style>\n",
              "\n",
              "      <script>\n",
              "        const buttonEl =\n",
              "          document.querySelector('#df-c7b79be5-ff8d-4f1d-a833-76da47a0518c button.colab-df-convert');\n",
              "        buttonEl.style.display =\n",
              "          google.colab.kernel.accessAllowed ? 'block' : 'none';\n",
              "\n",
              "        async function convertToInteractive(key) {\n",
              "          const element = document.querySelector('#df-c7b79be5-ff8d-4f1d-a833-76da47a0518c');\n",
              "          const dataTable =\n",
              "            await google.colab.kernel.invokeFunction('convertToInteractive',\n",
              "                                                     [key], {});\n",
              "          if (!dataTable) return;\n",
              "\n",
              "          const docLinkHtml = 'Like what you see? Visit the ' +\n",
              "            '<a target=\"_blank\" href=https://colab.research.google.com/notebooks/data_table.ipynb>data table notebook</a>'\n",
              "            + ' to learn more about interactive tables.';\n",
              "          element.innerHTML = '';\n",
              "          dataTable['output_type'] = 'display_data';\n",
              "          await google.colab.output.renderOutput(dataTable, element);\n",
              "          const docLink = document.createElement('div');\n",
              "          docLink.innerHTML = docLinkHtml;\n",
              "          element.appendChild(docLink);\n",
              "        }\n",
              "      </script>\n",
              "    </div>\n",
              "  </div>\n",
              "  "
            ]
          },
          "metadata": {},
          "execution_count": 14
        }
      ]
    },
    {
      "cell_type": "markdown",
      "source": [
        "## Label propagation "
      ],
      "metadata": {
        "id": "EwOWQwr5w_C9"
      }
    },
    {
      "cell_type": "code",
      "source": [
        "def label_propagation(model, df, labeled):\n",
        "  \n",
        "  X = df.iloc[:,:-1].values\n",
        "  y = df.iloc[:,-1].values\n",
        "  train_labels = np.copy(y)\n",
        "\n",
        "  y_count = np.unique(y, return_counts=True)[1]\n",
        "  random_unlabeled_points = []\n",
        "  for i in y_count:\n",
        "    temp = list(np.random.rand(i) < 1-labeled)\n",
        "    while False not in temp:   #### Make sure at least one label in each class\n",
        "      temp = list(np.random.rand(i) < 1-labeled)\n",
        "    random_unlabeled_points.extend(temp)\n",
        "\n",
        "  random_unlabeled_points = np.array(random_unlabeled_points)\n",
        "  train_labels[random_unlabeled_points] = -1\n",
        "\n",
        "  model.fit(X, train_labels)\n",
        "  prediction = model.predict(X[random_unlabeled_points])\n",
        "  y_true = y[random_unlabeled_points]\n",
        "\n",
        "  return adjusted_rand_score(y_true, prediction), adjusted_mutual_info_score(y_true, prediction)"
      ],
      "metadata": {
        "id": "EcIpIoNxLje8"
      },
      "execution_count": 7,
      "outputs": []
    },
    {
      "cell_type": "markdown",
      "source": [
        "### Sanity check on subset"
      ],
      "metadata": {
        "id": "J5PjIO4QxGJV"
      }
    },
    {
      "cell_type": "code",
      "source": [
        "def sub_dataset(df, number_of_classes):\n",
        "  classes = random.choices(pd.unique(df['class']),k=number_of_classes)\n",
        "\n",
        "  subset = df.loc[df['class'].isin(classes)].reset_index(drop=True)\n",
        "\n",
        "  return subset"
      ],
      "metadata": {
        "id": "UngjEPu5oZZp"
      },
      "execution_count": 8,
      "outputs": []
    },
    {
      "cell_type": "code",
      "source": [
        "subset = sub_dataset(df, 10)\n",
        "output = []\n",
        "iteration = 10\n",
        "labeled_list = [0.005, 0.01, 0.05, 0.1]\n",
        "models = [LabelSpreading()]\n",
        "for i in range(iteration):\n",
        "  for model in models:\n",
        "    for labeled_percent in labeled_list:\n",
        "      ari, ami = label_propagation(model, subset, labeled_percent)\n",
        "      output.append([i, model, labeled_percent, ari, ami])\n",
        "\n",
        "### Run on K-Means\n",
        "kmeans = KMeans(n_clusters=10, random_state=1).fit(subset.iloc[:,:-1].values)\n",
        "kmeans_ari = adjusted_rand_score(subset.iloc[:,-1].values,kmeans.labels_)\n",
        "kmeans_ami = adjusted_mutual_info_score(subset.iloc[:,-1].values,kmeans.labels_)\n",
        "output.append([0,\"K-Means\",0, kmeans_ari, kmeans_ari])\n",
        "output.append([0,\"K-Means\",0.1, kmeans_ari, kmeans_ari])\n",
        "\n",
        "result = pd.DataFrame(output, columns=[\"Iteration\", \"Model\", \"Labeled Population\", \"ARI\", \"AMI\"])"
      ],
      "metadata": {
        "id": "-YpB0wSXoc0A"
      },
      "execution_count": null,
      "outputs": []
    },
    {
      "cell_type": "code",
      "source": [
        "sns.lineplot(data=result,x='Labeled Population', y='ARI', hue=\"Model\")"
      ],
      "metadata": {
        "colab": {
          "base_uri": "https://localhost:8080/",
          "height": 296
        },
        "id": "zXtqbpLmvulG",
        "outputId": "803a3963-230f-4080-cd5e-33637c2a0914"
      },
      "execution_count": null,
      "outputs": [
        {
          "output_type": "execute_result",
          "data": {
            "text/plain": [
              "<matplotlib.axes._subplots.AxesSubplot at 0x7f8187f6be10>"
            ]
          },
          "metadata": {},
          "execution_count": 11
        },
        {
          "output_type": "display_data",
          "data": {
            "text/plain": [
              "<Figure size 432x288 with 1 Axes>"
            ],
            "image/png": "[encoded data removed]"
          },
          "metadata": {
            "needs_background": "light"
          }
        }
      ]
    },
    {
      "cell_type": "markdown",
      "source": [
        "### Label Propagation"
      ],
      "metadata": {
        "id": "JE87PIi709QH"
      }
    },
    {
      "cell_type": "code",
      "source": [
        "label_propagation(LabelSpreading(), df, 0.1)\n",
        "### about 1min"
      ],
      "metadata": {
        "colab": {
          "base_uri": "https://localhost:8080/"
        },
        "id": "03NFmPKxPWK8",
        "outputId": "42421556-6185-401c-ba86-d7b9c4ffcf1d"
      },
      "execution_count": null,
      "outputs": [
        {
          "output_type": "execute_result",
          "data": {
            "text/plain": [
              "(0.9035086686362873, 0.9540360470576055)"
            ]
          },
          "metadata": {},
          "execution_count": 10
        }
      ]
    },
    {
      "cell_type": "code",
      "source": [
        "label_propagation(LabelPropagation(), df, 0.1)\n",
        "### more than 1h20min"
      ],
      "metadata": {
        "colab": {
          "base_uri": "https://localhost:8080/"
        },
        "id": "z452F_L7Pjjx",
        "outputId": "55db17aa-4d9d-44fb-a14c-fb561ff3c167"
      },
      "execution_count": null,
      "outputs": [
        {
          "output_type": "stream",
          "name": "stderr",
          "text": [
            "/usr/local/lib/python3.7/dist-packages/sklearn/semi_supervised/_label_propagation.py:318: ConvergenceWarning: max_iter=1000 was reached without convergence.\n",
            "  category=ConvergenceWarning,\n"
          ]
        },
        {
          "output_type": "execute_result",
          "data": {
            "text/plain": [
              "(0.8959532058205337, 0.9514791797514391)"
            ]
          },
          "metadata": {},
          "execution_count": 11
        }
      ]
    },
    {
      "cell_type": "code",
      "source": [
        "output = []\n",
        "iteration = 10\n",
        "labeled_list = [0.005, 0.01, 0.05, 0.1]\n",
        "models = [LabelSpreading()]\n",
        "for i in range(iteration):\n",
        "  for model in models:\n",
        "    for labeled_percent in labeled_list:\n",
        "      ari, ami = label_propagation(model, df, labeled_percent)\n",
        "      output.append([i, model, labeled_percent, ari, ami])\n",
        "\n",
        "### Run on K-Means\n",
        "kmeans = KMeans(n_clusters=90, random_state=1).fit(df.iloc[:,:-1].values)\n",
        "kmeans_ari = adjusted_rand_score(df.iloc[:,-1].values,kmeans.labels_)\n",
        "kmeans_ami = adjusted_mutual_info_score(df.iloc[:,-1].values,kmeans.labels_)\n",
        "output.append([0,\"K-Means\",0, kmeans_ari, kmeans_ari])\n",
        "output.append([0,\"K-Means\",0.1, kmeans_ari, kmeans_ari])\n",
        "\n",
        "result = pd.DataFrame(output, columns=[\"Iteration\", \"Model\", \"Labeled Population\", \"ARI\", \"AMI\"])"
      ],
      "metadata": {
        "id": "mkJlCZeA1Axl"
      },
      "execution_count": null,
      "outputs": []
    },
    {
      "cell_type": "code",
      "source": [
        "sns.lineplot(data=result,x='Labeled Population', y='ARI', hue=\"Model\")"
      ],
      "metadata": {
        "id": "KsEWqxU83IUg",
        "colab": {
          "base_uri": "https://localhost:8080/"
        },
        "outputId": "60917e5c-b0dc-4282-d5f5-468c09c935db"
      },
      "execution_count": null,
      "outputs": [
        {
          "output_type": "execute_result",
          "data": {
            "text/plain": [
              "<matplotlib.axes._subplots.AxesSubplot at 0x7f818517ac10>"
            ]
          },
          "metadata": {},
          "execution_count": 13
        },
        {
          "output_type": "display_data",
          "data": {
            "text/plain": [
              "<Figure size 432x288 with 1 Axes>"
            ],
            "image/png": "[encoded data removed]"
          },
          "metadata": {
            "needs_background": "light"
          }
        }
      ]
    },
    {
      "cell_type": "code",
      "source": [
        "sns.lineplot(data=result,x='Labeled Population', y='AMI', hue=\"Model\")"
      ],
      "metadata": {
        "colab": {
          "base_uri": "https://localhost:8080/"
        },
        "id": "QvJrkIiAsHru",
        "outputId": "82278365-3ac8-46d4-93cf-d588d5ee6844"
      },
      "execution_count": null,
      "outputs": [
        {
          "output_type": "execute_result",
          "data": {
            "text/plain": [
              "<matplotlib.axes._subplots.AxesSubplot at 0x7f8185079850>"
            ]
          },
          "metadata": {},
          "execution_count": 14
        },
        {
          "output_type": "display_data",
          "data": {
            "text/plain": [
              "<Figure size 432x288 with 1 Axes>"
            ],
            "image/png": "[encoded data removed]"
          },
          "metadata": {
            "needs_background": "light"
          }
        }
      ]
    },
    {
      "cell_type": "markdown",
      "source": [
        "## Active Learning"
      ],
      "metadata": {
        "id": "ibsYpoCXxp-P"
      }
    },
    {
      "cell_type": "code",
      "source": [
        "def active_learning(df, labeled, num_increment, max_iteration):\n",
        "  X = df.iloc[:,:-1].values\n",
        "  y = df.iloc[:,-1].values\n",
        "  output = []\n",
        "  y_count = np.unique(y, return_counts=True)[1]\n",
        "\n",
        "  ##query 1% every iteration\n",
        "  query_num = int(X.shape[0]*0.01)\n",
        "\n",
        "  for iteration in range(max_iteration):\n",
        "    ### Create initial training labels\n",
        "    model = LabelSpreading()\n",
        "    unlabeled_indices = []\n",
        "    for i in y_count:\n",
        "      temp = list(np.random.rand(i) < 1-labeled)\n",
        "      while False not in temp:   #### Make sure at least one label in each class\n",
        "        temp = list(np.random.rand(i) < 1-labeled)\n",
        "      unlabeled_indices.extend(temp)\n",
        "    unlabeled_indices = np.array(unlabeled_indices)\n",
        "\n",
        "    for j in range(num_increment):\n",
        "      train_labels = np.copy(y)\n",
        "      print(\"This is iteration {} with {} unlabeled instances\".format(iteration,np.sum(unlabeled_indices)))\n",
        "      train_labels[unlabeled_indices] = -1\n",
        "      model.fit(X, train_labels)\n",
        "      prediction = model.predict(X[unlabeled_indices])\n",
        "      ari = adjusted_rand_score(y[unlabeled_indices], prediction)\n",
        "      ami = adjusted_mutual_info_score(y[unlabeled_indices], prediction)\n",
        "      output.append([i, model, labeled+j*0.01, \"Yes\", ari, ami])\n",
        "      ### Query least confidence instances\n",
        "      predict_prob = model.predict_proba(X[unlabeled_indices])\n",
        "      max_prob = np.amax(predict_prob, axis=1)\n",
        "      unlabeled_indices[np.argsort(max_prob)[:query_num]] = False\n",
        "  return output"
      ],
      "metadata": {
        "id": "y0qH9g2dxtDr"
      },
      "execution_count": 17,
      "outputs": []
    },
    {
      "cell_type": "code",
      "source": [
        "output = active_learning(df, labeled=0.01, num_increment=10, max_iteration=5)"
      ],
      "metadata": {
        "colab": {
          "base_uri": "https://localhost:8080/"
        },
        "id": "DlqUjYiDN1xT",
        "outputId": "50e2eea1-b3d8-45c6-a0ed-e14c540d5091"
      },
      "execution_count": null,
      "outputs": [
        {
          "output_type": "stream",
          "name": "stdout",
          "text": [
            "This is iteration 0 with 22186 unlabeled instances\n",
            "This is iteration 0 with 21963 unlabeled instances\n",
            "This is iteration 0 with 21740 unlabeled instances\n",
            "This is iteration 0 with 21525 unlabeled instances\n",
            "This is iteration 0 with 21316 unlabeled instances\n",
            "This is iteration 0 with 21110 unlabeled instances\n",
            "This is iteration 0 with 20899 unlabeled instances\n",
            "This is iteration 0 with 20697 unlabeled instances\n",
            "This is iteration 0 with 20480 unlabeled instances\n",
            "This is iteration 0 with 20298 unlabeled instances\n",
            "This is iteration 1 with 22207 unlabeled instances\n",
            "This is iteration 1 with 21986 unlabeled instances\n",
            "This is iteration 1 with 21776 unlabeled instances\n",
            "This is iteration 1 with 21583 unlabeled instances\n",
            "This is iteration 1 with 21375 unlabeled instances\n",
            "This is iteration 1 with 21166 unlabeled instances\n",
            "This is iteration 1 with 20949 unlabeled instances\n",
            "This is iteration 1 with 20742 unlabeled instances\n",
            "This is iteration 1 with 20522 unlabeled instances\n",
            "This is iteration 1 with 20334 unlabeled instances\n",
            "This is iteration 2 with 22196 unlabeled instances\n",
            "This is iteration 2 with 21973 unlabeled instances\n",
            "This is iteration 2 with 21754 unlabeled instances\n",
            "This is iteration 2 with 21537 unlabeled instances\n",
            "This is iteration 2 with 21324 unlabeled instances\n",
            "This is iteration 2 with 21141 unlabeled instances\n",
            "This is iteration 2 with 20933 unlabeled instances\n",
            "This is iteration 2 with 20737 unlabeled instances\n",
            "This is iteration 2 with 20531 unlabeled instances\n",
            "This is iteration 2 with 20332 unlabeled instances\n",
            "This is iteration 3 with 22192 unlabeled instances\n",
            "This is iteration 3 with 21969 unlabeled instances\n",
            "This is iteration 3 with 21748 unlabeled instances\n",
            "This is iteration 3 with 21535 unlabeled instances\n",
            "This is iteration 3 with 21334 unlabeled instances\n",
            "This is iteration 3 with 21149 unlabeled instances\n",
            "This is iteration 3 with 20968 unlabeled instances\n",
            "This is iteration 3 with 20787 unlabeled instances\n",
            "This is iteration 3 with 20610 unlabeled instances\n",
            "This is iteration 3 with 20428 unlabeled instances\n"
          ]
        }
      ]
    },
    {
      "cell_type": "code",
      "source": [
        "result = pd.DataFrame(output, columns=[\"Iteration\", \"Model\", \"Labeled Population\", \"Active Learning\", \"ARI\", \"AMI\"])"
      ],
      "metadata": {
        "id": "ed57790HQZsY"
      },
      "execution_count": 18,
      "outputs": []
    },
    {
      "cell_type": "code",
      "source": [
        "sns.lineplot(data=result,x='Labeled Population', y='AMI')"
      ],
      "metadata": {
        "id": "bwXKIBjnQf7G",
        "colab": {
          "base_uri": "https://localhost:8080/",
          "height": 296
        },
        "outputId": "8f9db73b-7cc1-4656-825a-57604ebe5e92"
      },
      "execution_count": 19,
      "outputs": [
        {
          "output_type": "execute_result",
          "data": {
            "text/plain": [
              "<matplotlib.axes._subplots.AxesSubplot at 0x7f03b9a3d650>"
            ]
          },
          "metadata": {},
          "execution_count": 19
        },
        {
          "output_type": "display_data",
          "data": {
            "text/plain": [
              "<Figure size 432x288 with 1 Axes>"
            ],
            "image/png": "[encoded data removed]"
          },
          "metadata": {
            "needs_background": "light"
          }
        }
      ]
    },
    {
      "cell_type": "code",
      "source": [
        "sns.lineplot(data=result,x='Labeled Population', y='ARI')"
      ],
      "metadata": {
        "id": "ubYbEGm8QjQp",
        "colab": {
          "base_uri": "https://localhost:8080/",
          "height": 296
        },
        "outputId": "720c7f72-f791-4623-c506-83cb2a4dc2f5"
      },
      "execution_count": 20,
      "outputs": [
        {
          "output_type": "execute_result",
          "data": {
            "text/plain": [
              "<matplotlib.axes._subplots.AxesSubplot at 0x7f03b99e0890>"
            ]
          },
          "metadata": {},
          "execution_count": 20
        },
        {
          "output_type": "display_data",
          "data": {
            "text/plain": [
              "<Figure size 432x288 with 1 Axes>"
            ],
            "image/png": "[encoded data removed]"
          },
          "metadata": {
            "needs_background": "light"
          }
        }
      ]
    },
    {
      "cell_type": "code",
      "source": [
        "output2 = output.copy()\n",
        "iteration = 5\n",
        "labeled_list = [0.01, 0.02, 0.03, 0.04, 0.05, 0.06, 0.07, 0.08, 0.09, 0.1]\n",
        "models = [LabelSpreading()]\n",
        "for i in range(iteration):\n",
        "  for model in models:\n",
        "    for labeled_percent in labeled_list:\n",
        "      ari, ami = label_propagation(model, df, labeled_percent)\n",
        "      output2.append([i, model, labeled_percent, \"No\", ari, ami])"
      ],
      "metadata": {
        "id": "TzY3QWT2vi-7"
      },
      "execution_count": 23,
      "outputs": []
    },
    {
      "cell_type": "code",
      "source": [
        "### Run on K-Means\n",
        "kmeans = KMeans(n_clusters=90, random_state=1).fit(df.iloc[:,:-1].values)\n",
        "kmeans_ari = adjusted_rand_score(df.iloc[:,-1].values,kmeans.labels_)\n",
        "kmeans_ami = adjusted_mutual_info_score(df.iloc[:,-1].values,kmeans.labels_)\n",
        "output2.append([0,\"K-Means\",0, \"No\", kmeans_ari, kmeans_ari])\n",
        "output2.append([0,\"K-Means\",0.1, \"No\", kmeans_ari, kmeans_ari])"
      ],
      "metadata": {
        "id": "dwkEbwKgHNeZ"
      },
      "execution_count": null,
      "outputs": []
    },
    {
      "cell_type": "code",
      "source": [
        "final_result = pd.DataFrame(output2, columns=[\"Iteration\", \"Model\", \"Labeled Population\", \"Active Learning\", \"ARI\", \"AMI\"])"
      ],
      "metadata": {
        "id": "66E4Ud1eHSbQ"
      },
      "execution_count": 35,
      "outputs": []
    },
    {
      "cell_type": "code",
      "source": [
        "sns.lineplot(data=final_result,x='Labeled Population', y='AMI', hue=\"Active Learning\")"
      ],
      "metadata": {
        "colab": {
          "base_uri": "https://localhost:8080/",
          "height": 296
        },
        "id": "AjYzJqT2xyAQ",
        "outputId": "cb127527-2c02-43db-ec10-3fdf381fcf7a"
      },
      "execution_count": 37,
      "outputs": [
        {
          "output_type": "execute_result",
          "data": {
            "text/plain": [
              "<matplotlib.axes._subplots.AxesSubplot at 0x7f03b72d7410>"
            ]
          },
          "metadata": {},
          "execution_count": 37
        },
        {
          "output_type": "display_data",
          "data": {
            "text/plain": [
              "<Figure size 432x288 with 1 Axes>"
            ],
            "image/png": "[encoded data removed]"
          },
          "metadata": {
            "needs_background": "light"
          }
        }
      ]
    },
    {
      "cell_type": "code",
      "source": [
        "sns.lineplot(data=final_result,x='Labeled Population', y='ARI', hue=\"Active Learning\")"
      ],
      "metadata": {
        "colab": {
          "base_uri": "https://localhost:8080/",
          "height": 296
        },
        "id": "_tNDmJPUH6wp",
        "outputId": "01970c06-24f0-4a72-ae8e-0b12dd133064"
      },
      "execution_count": 38,
      "outputs": [
        {
          "output_type": "execute_result",
          "data": {
            "text/plain": [
              "<matplotlib.axes._subplots.AxesSubplot at 0x7f03b72747d0>"
            ]
          },
          "metadata": {},
          "execution_count": 38
        },
        {
          "output_type": "display_data",
          "data": {
            "text/plain": [
              "<Figure size 432x288 with 1 Axes>"
            ],
            "image/png": "[encoded data removed]"
          },
          "metadata": {
            "needs_background": "light"
          }
        }
      ]
    }
  ]
}